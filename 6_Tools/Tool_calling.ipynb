{
 "cells": [
  {
   "cell_type": "code",
   "execution_count": 1,
   "id": "712f3696",
   "metadata": {},
   "outputs": [],
   "source": [
    "from langchain_core.messages import HumanMessage\n",
    "from langchain_core.tools import tool"
   ]
  },
  {
   "cell_type": "code",
   "execution_count": 2,
   "id": "4ef6d8c3",
   "metadata": {},
   "outputs": [],
   "source": [
    "import os\n",
    "from dotenv import load_dotenv\n",
    "from langchain_huggingface import ChatHuggingFace,HuggingFaceEndpoint\n",
    "\n",
    "load_dotenv()\n",
    "\n",
    "huggingfacehub_access_token = os.getenv(\"HUGGINGFACEHUB_ACCESS_TOKEN\")\n",
    "\n",
    "if not huggingfacehub_access_token: \n",
    "    raise ValueError(\"❌ HUGGINGFACEHUB_ACCESS_TOKEN not found in environment variables.\")\n"
   ]
  },
  {
   "cell_type": "code",
   "execution_count": 3,
   "id": "af1abd99",
   "metadata": {},
   "outputs": [],
   "source": [
    "# Tool creation\n",
    "\n",
    "@tool\n",
    "def multiply(a: int, b: int) -> int:\n",
    "  \"\"\"Given 2 numbers a and b this tool returns their product\"\"\"\n",
    "  return a * b"
   ]
  },
  {
   "cell_type": "code",
   "execution_count": 4,
   "id": "3442c951",
   "metadata": {},
   "outputs": [
    {
     "name": "stdout",
     "output_type": "stream",
     "text": [
      "12\n"
     ]
    }
   ],
   "source": [
    "print(multiply.invoke({'a':3, 'b':4}))"
   ]
  },
  {
   "cell_type": "code",
   "execution_count": 5,
   "id": "a7976ff6",
   "metadata": {},
   "outputs": [
    {
     "data": {
      "text/plain": [
       "'multiply'"
      ]
     },
     "execution_count": 5,
     "metadata": {},
     "output_type": "execute_result"
    }
   ],
   "source": [
    "multiply.name"
   ]
  },
  {
   "cell_type": "code",
   "execution_count": 6,
   "id": "0a9ecc82",
   "metadata": {},
   "outputs": [
    {
     "data": {
      "text/plain": [
       "'Given 2 numbers a and b this tool returns their product'"
      ]
     },
     "execution_count": 6,
     "metadata": {},
     "output_type": "execute_result"
    }
   ],
   "source": [
    "multiply.description"
   ]
  },
  {
   "cell_type": "code",
   "execution_count": 7,
   "id": "04ceb2c7",
   "metadata": {},
   "outputs": [
    {
     "data": {
      "text/plain": [
       "{'a': {'title': 'A', 'type': 'integer'},\n",
       " 'b': {'title': 'B', 'type': 'integer'}}"
      ]
     },
     "execution_count": 7,
     "metadata": {},
     "output_type": "execute_result"
    }
   ],
   "source": [
    "multiply.args"
   ]
  },
  {
   "cell_type": "code",
   "execution_count": 8,
   "id": "705c57ac",
   "metadata": {},
   "outputs": [],
   "source": [
    "# Tool binding\n",
    "llm=HuggingFaceEndpoint(repo_id=\"openai/gpt-oss-120b\",task=\"text-generation\",huggingfacehub_api_token=huggingfacehub_access_token)\n",
    "\n",
    "chat_model = ChatHuggingFace(\n",
    "    llm=llm\n",
    ")"
   ]
  },
  {
   "cell_type": "code",
   "execution_count": 9,
   "id": "ef0edc5f",
   "metadata": {},
   "outputs": [
    {
     "data": {
      "text/plain": [
       "AIMessage(content='Hello! How can I assist you today?', additional_kwargs={}, response_metadata={'token_usage': {'completion_tokens': 31, 'prompt_tokens': 68, 'total_tokens': 99}, 'model_name': 'openai/gpt-oss-120b', 'system_fingerprint': 'fp_6b919af976f774e48013', 'finish_reason': 'stop', 'logprobs': None}, id='run--58e52297-65f5-49eb-9fd4-70dba6ff5521-0', usage_metadata={'input_tokens': 68, 'output_tokens': 31, 'total_tokens': 99})"
      ]
     },
     "execution_count": 9,
     "metadata": {},
     "output_type": "execute_result"
    }
   ],
   "source": [
    "chat_model.invoke(\"hello\")"
   ]
  },
  {
   "cell_type": "code",
   "execution_count": 10,
   "id": "61c927ea",
   "metadata": {},
   "outputs": [],
   "source": [
    "chat_model_with_tools = chat_model.bind_tools([multiply])"
   ]
  },
  {
   "cell_type": "code",
   "execution_count": 11,
   "id": "be605ad4",
   "metadata": {},
   "outputs": [
    {
     "data": {
      "text/plain": [
       "AIMessage(content='Hello! How can I assist you today?', additional_kwargs={}, response_metadata={'token_usage': {'completion_tokens': 29, 'prompt_tokens': 130, 'total_tokens': 159}, 'model_name': 'openai/gpt-oss-120b', 'system_fingerprint': 'fp_6b919af976f774e48013', 'finish_reason': 'stop', 'logprobs': None}, id='run--9e81e480-75b8-4237-8e08-70361e20a09f-0', usage_metadata={'input_tokens': 130, 'output_tokens': 29, 'total_tokens': 159})"
      ]
     },
     "execution_count": 11,
     "metadata": {},
     "output_type": "execute_result"
    }
   ],
   "source": [
    "chat_model_with_tools.invoke(\"Hello\")"
   ]
  },
  {
   "cell_type": "code",
   "execution_count": 12,
   "id": "0189b7da",
   "metadata": {},
   "outputs": [],
   "source": [
    "query = HumanMessage('can you multiply 3 with 1000')"
   ]
  },
  {
   "cell_type": "code",
   "execution_count": 13,
   "id": "e66bfc79",
   "metadata": {},
   "outputs": [],
   "source": [
    "messages = [query]"
   ]
  },
  {
   "cell_type": "code",
   "execution_count": 14,
   "id": "87dd25e3",
   "metadata": {},
   "outputs": [
    {
     "data": {
      "text/plain": [
       "[HumanMessage(content='can you multiply 3 with 1000', additional_kwargs={}, response_metadata={})]"
      ]
     },
     "execution_count": 14,
     "metadata": {},
     "output_type": "execute_result"
    }
   ],
   "source": [
    "messages"
   ]
  },
  {
   "cell_type": "code",
   "execution_count": 15,
   "id": "c5d48219",
   "metadata": {},
   "outputs": [],
   "source": [
    "result = chat_model_with_tools.invoke(messages)"
   ]
  },
  {
   "cell_type": "code",
   "execution_count": 16,
   "id": "be71abb0",
   "metadata": {},
   "outputs": [],
   "source": [
    "messages.append(result)"
   ]
  },
  {
   "cell_type": "code",
   "execution_count": 17,
   "id": "80e14375",
   "metadata": {},
   "outputs": [
    {
     "data": {
      "text/plain": [
       "[HumanMessage(content='can you multiply 3 with 1000', additional_kwargs={}, response_metadata={}),\n",
       " AIMessage(content='', additional_kwargs={'tool_calls': [{'function': {'arguments': '{\\n  \"a\": 3,\\n  \"b\": 1000\\n}', 'name': 'multiply', 'description': None}, 'id': '84c1647e5', 'type': 'function'}]}, response_metadata={'token_usage': {'completion_tokens': 50, 'prompt_tokens': 138, 'total_tokens': 188}, 'model_name': 'openai/gpt-oss-120b', 'system_fingerprint': 'fp_6b919af976f774e48013', 'finish_reason': 'tool_calls', 'logprobs': None}, id='run--3c10b1f2-c4ca-4a97-8b4a-17b1c0d3b79e-0', tool_calls=[{'name': 'multiply', 'args': {'a': 3, 'b': 1000}, 'id': '84c1647e5', 'type': 'tool_call'}], usage_metadata={'input_tokens': 138, 'output_tokens': 50, 'total_tokens': 188})]"
      ]
     },
     "execution_count": 17,
     "metadata": {},
     "output_type": "execute_result"
    }
   ],
   "source": [
    "messages"
   ]
  },
  {
   "cell_type": "code",
   "execution_count": 18,
   "id": "eb5a7d72",
   "metadata": {},
   "outputs": [],
   "source": [
    "tool_result = multiply.invoke(result.tool_calls[0])"
   ]
  },
  {
   "cell_type": "code",
   "execution_count": 19,
   "id": "1f32aee1",
   "metadata": {},
   "outputs": [
    {
     "data": {
      "text/plain": [
       "ToolMessage(content='3000', name='multiply', tool_call_id='84c1647e5')"
      ]
     },
     "execution_count": 19,
     "metadata": {},
     "output_type": "execute_result"
    }
   ],
   "source": [
    "tool_result"
   ]
  },
  {
   "cell_type": "code",
   "execution_count": 20,
   "id": "27d1499b",
   "metadata": {},
   "outputs": [],
   "source": [
    "messages.append(tool_result)"
   ]
  },
  {
   "cell_type": "code",
   "execution_count": 21,
   "id": "4bff845d",
   "metadata": {},
   "outputs": [
    {
     "data": {
      "text/plain": [
       "[HumanMessage(content='can you multiply 3 with 1000', additional_kwargs={}, response_metadata={}),\n",
       " AIMessage(content='', additional_kwargs={'tool_calls': [{'function': {'arguments': '{\\n  \"a\": 3,\\n  \"b\": 1000\\n}', 'name': 'multiply', 'description': None}, 'id': '84c1647e5', 'type': 'function'}]}, response_metadata={'token_usage': {'completion_tokens': 50, 'prompt_tokens': 138, 'total_tokens': 188}, 'model_name': 'openai/gpt-oss-120b', 'system_fingerprint': 'fp_6b919af976f774e48013', 'finish_reason': 'tool_calls', 'logprobs': None}, id='run--3c10b1f2-c4ca-4a97-8b4a-17b1c0d3b79e-0', tool_calls=[{'name': 'multiply', 'args': {'a': 3, 'b': 1000}, 'id': '84c1647e5', 'type': 'tool_call'}], usage_metadata={'input_tokens': 138, 'output_tokens': 50, 'total_tokens': 188}),\n",
       " ToolMessage(content='3000', name='multiply', tool_call_id='84c1647e5')]"
      ]
     },
     "execution_count": 21,
     "metadata": {},
     "output_type": "execute_result"
    }
   ],
   "source": [
    "messages"
   ]
  },
  {
   "cell_type": "code",
   "execution_count": 22,
   "id": "dee4fe8f",
   "metadata": {},
   "outputs": [
    {
     "data": {
      "text/plain": [
       "'The product of\\u202f3\\u202fand\\u202f1000\\u202fis\\u202f**3000**.'"
      ]
     },
     "execution_count": 22,
     "metadata": {},
     "output_type": "execute_result"
    }
   ],
   "source": [
    "chat_model_with_tools.invoke(messages).content"
   ]
  },
  {
   "cell_type": "code",
   "execution_count": 23,
   "id": "396e3eb2",
   "metadata": {},
   "outputs": [],
   "source": [
    "# creating a currency converter tool\n",
    "import requests\n",
    "from typing import Annotated\n",
    "from langchain_core.tools import InjectedToolArg\n",
    "\n",
    "@tool\n",
    "def get_conversion_factor(base_currency:str, target_currency:str)->float:\n",
    "    \"\"\"\n",
    "    This tool takes in 2 currency codes and returns the exchange rate from base currency to target currency\n",
    "    \"\"\"\n",
    "    url=f\"https://v6.exchangerate-api.com/v6/c754eab14ffab33112e380ca/pair/{base_currency}/{target_currency}\"\n",
    "    \n",
    "    try :\n",
    "        response=requests.get(url)\n",
    "        return response.json()\n",
    "    except Exception as e:\n",
    "        print(\"not fetched\")\n",
    "\n",
    "\n",
    "@tool\n",
    "def convert_currency(base_currency_value:float, exchange_rate:Annotated[float, InjectedToolArg])->float:\n",
    "    \"\"\"\n",
    "    given a currency conversion rate this function calculates the target currency value from a given base currency value\n",
    "    \"\"\"\n",
    "\n",
    "    return base_currency_value * exchange_rate\n"
   ]
  },
  {
   "cell_type": "code",
   "execution_count": 24,
   "id": "4734870b",
   "metadata": {},
   "outputs": [
    {
     "data": {
      "text/plain": [
       "{'base_currency_value': {'title': 'Base Currency Value', 'type': 'number'},\n",
       " 'exchange_rate': {'title': 'Exchange Rate', 'type': 'number'}}"
      ]
     },
     "execution_count": 24,
     "metadata": {},
     "output_type": "execute_result"
    }
   ],
   "source": [
    "convert_currency.args"
   ]
  },
  {
   "cell_type": "code",
   "execution_count": 25,
   "id": "e74c5fa1",
   "metadata": {},
   "outputs": [
    {
     "data": {
      "text/plain": [
       "{'result': 'success',\n",
       " 'documentation': 'https://www.exchangerate-api.com/docs',\n",
       " 'terms_of_use': 'https://www.exchangerate-api.com/terms',\n",
       " 'time_last_update_unix': 1757808001,\n",
       " 'time_last_update_utc': 'Sun, 14 Sep 2025 00:00:01 +0000',\n",
       " 'time_next_update_unix': 1757894401,\n",
       " 'time_next_update_utc': 'Mon, 15 Sep 2025 00:00:01 +0000',\n",
       " 'base_code': 'USD',\n",
       " 'target_code': 'INR',\n",
       " 'conversion_rate': 88.327}"
      ]
     },
     "execution_count": 25,
     "metadata": {},
     "output_type": "execute_result"
    }
   ],
   "source": [
    "get_conversion_factor.invoke({'base_currency':'USD', 'target_currency':'INR'})"
   ]
  },
  {
   "cell_type": "code",
   "execution_count": 26,
   "id": "0de69782",
   "metadata": {},
   "outputs": [
    {
     "data": {
      "text/plain": [
       "82740.0"
      ]
     },
     "execution_count": 26,
     "metadata": {},
     "output_type": "execute_result"
    }
   ],
   "source": [
    "convert_currency.invoke({'base_currency_value':1000, 'exchange_rate':82.74})"
   ]
  },
  {
   "cell_type": "code",
   "execution_count": 44,
   "id": "88db780f",
   "metadata": {},
   "outputs": [],
   "source": [
    "# tool binding\n",
    "\n",
    "llm=HuggingFaceEndpoint(repo_id=\"openai/gpt-oss-20b\",task=\"text-generation\",huggingfacehub_api_token=huggingfacehub_access_token)\n",
    "\n",
    "chat_model = ChatHuggingFace(\n",
    "    llm=llm\n",
    ")\n",
    "\n",
    "chat_model_with_tools=chat_model.bind_tools([get_conversion_factor,convert_currency])"
   ]
  },
  {
   "cell_type": "code",
   "execution_count": 45,
   "id": "bb972217",
   "metadata": {},
   "outputs": [],
   "source": [
    "messages = [HumanMessage(\"Convert 100 USD to INR\")]"
   ]
  },
  {
   "cell_type": "code",
   "execution_count": 46,
   "id": "39c95424",
   "metadata": {},
   "outputs": [
    {
     "data": {
      "text/plain": [
       "[HumanMessage(content='Convert 100 USD to INR', additional_kwargs={}, response_metadata={})]"
      ]
     },
     "execution_count": 46,
     "metadata": {},
     "output_type": "execute_result"
    }
   ],
   "source": [
    "messages"
   ]
  },
  {
   "cell_type": "code",
   "execution_count": 47,
   "id": "a0aacf35",
   "metadata": {},
   "outputs": [],
   "source": [
    "ai_message=chat_model_with_tools.invoke(messages)"
   ]
  },
  {
   "cell_type": "code",
   "execution_count": 48,
   "id": "f3993029",
   "metadata": {},
   "outputs": [],
   "source": [
    "messages.append(ai_message)"
   ]
  },
  {
   "cell_type": "code",
   "execution_count": 49,
   "id": "e6268c90",
   "metadata": {},
   "outputs": [
    {
     "data": {
      "text/plain": [
       "[{'name': 'get_conversion_factor',\n",
       "  'args': {'base_currency': 'USD', 'target_currency': 'INR'},\n",
       "  'id': 'chatcmpl-tool-8c93131e85a14e81a5a7576d00155884',\n",
       "  'type': 'tool_call'}]"
      ]
     },
     "execution_count": 49,
     "metadata": {},
     "output_type": "execute_result"
    }
   ],
   "source": [
    "ai_message.tool_calls"
   ]
  },
  {
   "cell_type": "code",
   "execution_count": 50,
   "id": "7186b383",
   "metadata": {},
   "outputs": [
    {
     "name": "stdout",
     "output_type": "stream",
     "text": [
      "88.327\n"
     ]
    }
   ],
   "source": [
    "import json\n",
    "\n",
    "for tool_call in ai_message.tool_calls:\n",
    "  # execute the 1st tool and get the value of conversion rate\n",
    "  if tool_call['name'] == 'get_conversion_factor':\n",
    "    tool_message1 = get_conversion_factor.invoke(tool_call)\n",
    "\n",
    "    # fetch this conversion rate\n",
    "    conversion_rate = json.loads(tool_message1.content)['conversion_rate']\n",
    "    print(conversion_rate)\n",
    "    # append this tool message to messages list\n",
    "    messages.append(tool_message1)\n",
    "  # execute the 2nd tool using the conversion rate from tool 1\n",
    "  if tool_call['name'] == 'convert':\n",
    "    # fetch the current arg\n",
    "    tool_call['args']['conversion_rate'] = conversion_rate\n",
    "    tool_message2 = convert_currency.invoke(tool_call)\n",
    "    messages.append(tool_message2)\n",
    "\n"
   ]
  },
  {
   "cell_type": "code",
   "execution_count": 51,
   "id": "d19723d9",
   "metadata": {},
   "outputs": [
    {
     "data": {
      "text/plain": [
       "[HumanMessage(content='Convert 100 USD to INR', additional_kwargs={}, response_metadata={}),\n",
       " AIMessage(content='{\"base_currency\":\"USD\",\"target_currency\":\"INR\"}', additional_kwargs={'tool_calls': [{'function': {'arguments': '{\"base_currency\":\"USD\",\"target_currency\":\"INR\"}', 'name': 'get_conversion_factor', 'description': None}, 'id': 'chatcmpl-tool-8c93131e85a14e81a5a7576d00155884', 'type': 'function'}]}, response_metadata={'token_usage': {'completion_tokens': 470, 'prompt_tokens': 182, 'total_tokens': 652}, 'model_name': 'openai/gpt-oss-20b', 'system_fingerprint': None, 'finish_reason': 'tool_calls', 'logprobs': None}, id='run--08d9e64a-b775-406f-9b72-7c962aa6e14b-0', tool_calls=[{'name': 'get_conversion_factor', 'args': {'base_currency': 'USD', 'target_currency': 'INR'}, 'id': 'chatcmpl-tool-8c93131e85a14e81a5a7576d00155884', 'type': 'tool_call'}], usage_metadata={'input_tokens': 182, 'output_tokens': 470, 'total_tokens': 652}),\n",
       " ToolMessage(content='{\"result\": \"success\", \"documentation\": \"https://www.exchangerate-api.com/docs\", \"terms_of_use\": \"https://www.exchangerate-api.com/terms\", \"time_last_update_unix\": 1757808001, \"time_last_update_utc\": \"Sun, 14 Sep 2025 00:00:01 +0000\", \"time_next_update_unix\": 1757894401, \"time_next_update_utc\": \"Mon, 15 Sep 2025 00:00:01 +0000\", \"base_code\": \"USD\", \"target_code\": \"INR\", \"conversion_rate\": 88.327}', name='get_conversion_factor', tool_call_id='chatcmpl-tool-8c93131e85a14e81a5a7576d00155884')]"
      ]
     },
     "execution_count": 51,
     "metadata": {},
     "output_type": "execute_result"
    }
   ],
   "source": [
    "messages"
   ]
  },
  {
   "cell_type": "code",
   "execution_count": 55,
   "id": "ad651afc",
   "metadata": {},
   "outputs": [
    {
     "data": {
      "text/plain": [
       "'**Conversion Result**\\n\\n- **100\\u202fUSD** × **88.327\\u202fINR/USD** = **8,832.70\\u202fINR**\\n\\nSo, 100\\u202fUS\\u202fdollars is roughly **₹8,832.70** Indian rupees.'"
      ]
     },
     "execution_count": 55,
     "metadata": {},
     "output_type": "execute_result"
    }
   ],
   "source": [
    "chat_model_with_tools.invoke(messages).content"
   ]
  },
  {
   "cell_type": "code",
   "execution_count": 57,
   "id": "30d599e0",
   "metadata": {},
   "outputs": [],
   "source": [
    "import re\n",
    "\n",
    "def clean_response(text: str) -> str:\n",
    "    # Remove LaTeX math\n",
    "    text = re.sub(r\"\\\\\\(.*?\\\\\\)\", \"\", text)\n",
    "    text = re.sub(r\"\\\\\\[.*?\\\\\\]\", \"\", text)\n",
    "    # Replace bold markdown\n",
    "    text = text.replace(\"**\", \"\")\n",
    "    # Replace newlines\n",
    "    text = text.replace(\"\\\\n\", \"\\n\")\n",
    "    return text.strip()\n",
    "\n",
    "raw_output = chat_model_with_tools.invoke(messages).content\n"
   ]
  },
  {
   "cell_type": "code",
   "execution_count": 58,
   "id": "156ecc56",
   "metadata": {},
   "outputs": [
    {
     "name": "stdout",
     "output_type": "stream",
     "text": [
      "100 USD is approximately ₹8,332.70 INR (using the current rate of 1 USD = 88.327 INR).\n"
     ]
    }
   ],
   "source": [
    "print(clean_response(raw_output))"
   ]
  },
  {
   "cell_type": "code",
   "execution_count": null,
   "id": "3668514b",
   "metadata": {},
   "outputs": [],
   "source": []
  }
 ],
 "metadata": {
  "kernelspec": {
   "display_name": "my_env",
   "language": "python",
   "name": "python3"
  },
  "language_info": {
   "codemirror_mode": {
    "name": "ipython",
    "version": 3
   },
   "file_extension": ".py",
   "mimetype": "text/x-python",
   "name": "python",
   "nbconvert_exporter": "python",
   "pygments_lexer": "ipython3",
   "version": "3.13.3"
  }
 },
 "nbformat": 4,
 "nbformat_minor": 5
}
