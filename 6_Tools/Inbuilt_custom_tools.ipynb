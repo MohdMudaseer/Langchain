{
 "cells": [
  {
   "cell_type": "markdown",
   "id": "a8b3f7d2",
   "metadata": {},
   "source": [
    "## Tools"
   ]
  },
  {
   "cell_type": "markdown",
   "id": "3f763e63",
   "metadata": {},
   "source": [
    "Tools provide llms the capability to do tasks -LLms-Reasoning, Tools-Work<BR>\n",
    "\n",
    "LangChain supports \n",
    "1. Inbuilt tools\n",
    "2. Custom tools that can be made as per the requirement"
   ]
  },
  {
   "cell_type": "markdown",
   "id": "795fa268",
   "metadata": {},
   "source": [
    "## Inbuilt tools\n",
    "\n",
    "Some of the tools that will be discussed in the notebook are\n",
    "1. Search tool- Google search(paid), Brave search, Duck-Duck-go\n",
    "2. Shell tool- allows to execute shell commands"
   ]
  },
  {
   "cell_type": "code",
   "execution_count": 1,
   "id": "7c9ccba7",
   "metadata": {},
   "outputs": [],
   "source": [
    "import warnings\n",
    "warnings.filterwarnings('ignore')"
   ]
  },
  {
   "cell_type": "code",
   "execution_count": 2,
   "id": "ea0dbc92",
   "metadata": {},
   "outputs": [
    {
     "name": "stdout",
     "output_type": "stream",
     "text": [
      "Requirement already satisfied: ddgs in c:\\users\\mudas\\onedrive\\desktop\\langchain\\my_env\\lib\\site-packages (9.5.4)\n",
      "Requirement already satisfied: click>=8.1.8 in c:\\users\\mudas\\onedrive\\desktop\\langchain\\my_env\\lib\\site-packages (from ddgs) (8.2.1)\n",
      "Requirement already satisfied: primp>=0.15.0 in c:\\users\\mudas\\onedrive\\desktop\\langchain\\my_env\\lib\\site-packages (from ddgs) (0.15.0)\n",
      "Requirement already satisfied: lxml>=6.0.0 in c:\\users\\mudas\\onedrive\\desktop\\langchain\\my_env\\lib\\site-packages (from ddgs) (6.0.1)\n",
      "Requirement already satisfied: colorama in c:\\users\\mudas\\onedrive\\desktop\\langchain\\my_env\\lib\\site-packages (from click>=8.1.8->ddgs) (0.4.6)\n"
     ]
    }
   ],
   "source": [
    "# installing the required libraries\n",
    "!pip install -U ddgs"
   ]
  },
  {
   "cell_type": "code",
   "execution_count": 3,
   "id": "687be67e",
   "metadata": {},
   "outputs": [
    {
     "name": "stderr",
     "output_type": "stream",
     "text": [
      "c:\\Users\\mudas\\OneDrive\\Desktop\\Langchain\\my_env\\Lib\\site-packages\\langchain_community\\utilities\\duckduckgo_search.py:63: RuntimeWarning: This package (`duckduckgo_search`) has been renamed to `ddgs`! Use `pip install ddgs` instead.\n",
      "  with DDGS() as ddgs:\n"
     ]
    },
    {
     "name": "stdout",
     "output_type": "stream",
     "text": [
      "15 hours ago · Top News Stories of the day, Latest News Headlines, News Specials, Breaking News and Latest India News, World current affairs & Political News all around the clock at NDTV.com. 2 days ago · Headlines today: Get news headlines from India and around the world. Today's breaking news on politics, sports, entertainment, business, life style and many more on Times of India 1 day ago · News Today Live Updates, 26 August | Punjab orders closure of schools in several districts as flood crisis worsens Latest News Live Updates | Excess water release from dams has inundated large swathes of agricultural land across several districts. 1 day ago · Zee News brings latest news from India and World on breaking news, today news headlines, politics, business, technology, bollywood, entertainment, sports and others. Find exclusive news stories on Indian politics, current affairs, cricket matches, festivals and events 5 days ago · Trending news and viral stories from India and the world. Get the latest on popular topics, breaking news, and social media buzz across politics, entertainment, sports, and technology.\n"
     ]
    }
   ],
   "source": [
    "from langchain_community.tools import DuckDuckGoSearchRun\n",
    "\n",
    "search_tool=DuckDuckGoSearchRun()\n",
    "print(search_tool.invoke(\"What's the trending news in India today?\"))"
   ]
  },
  {
   "cell_type": "code",
   "execution_count": 4,
   "id": "4ef085a7",
   "metadata": {},
   "outputs": [
    {
     "name": "stdout",
     "output_type": "stream",
     "text": [
      "duckduckgo_search\n",
      "A wrapper around DuckDuckGo Search. Useful for when you need to answer questions about current events. Input should be a search query.\n",
      "{'query': {'description': 'search query to look up', 'title': 'Query', 'type': 'string'}}\n"
     ]
    }
   ],
   "source": [
    "print(search_tool.name)\n",
    "print(search_tool.description)\n",
    "print(search_tool.args)"
   ]
  },
  {
   "cell_type": "markdown",
   "id": "143d2464",
   "metadata": {},
   "source": [
    "### Shell tool"
   ]
  },
  {
   "cell_type": "code",
   "execution_count": 6,
   "id": "7d498875",
   "metadata": {},
   "outputs": [
    {
     "name": "stdout",
     "output_type": "stream",
     "text": [
      "Executing command:\n",
      " dir\n",
      " Volume in drive C has no label.\n",
      " Volume Serial Number is 5ED7-C4E7\n",
      "\n",
      " Directory of c:\\Users\\mudas\\OneDrive\\Desktop\\Langchain\\6_Tools\n",
      "\n",
      "27-08-2025  02.37 PM    <DIR>          .\n",
      "27-08-2025  02.36 PM    <DIR>          ..\n",
      "27-08-2025  03.04 PM             6,103 Inbuilt_custom_tools.ipynb\n",
      "               1 File(s)          6,103 bytes\n",
      "               2 Dir(s)  256,069,025,792 bytes free\n",
      "\n"
     ]
    },
    {
     "name": "stderr",
     "output_type": "stream",
     "text": [
      "c:\\Users\\mudas\\OneDrive\\Desktop\\Langchain\\my_env\\Lib\\site-packages\\langchain_community\\tools\\shell\\tool.py:33: UserWarning: The shell tool has no safeguards by default. Use at your own risk.\n",
      "  warnings.warn(\n"
     ]
    }
   ],
   "source": [
    "from langchain_community.tools import ShellTool\n",
    "\n",
    "shell=ShellTool()\n",
    "print(shell.invoke(\"dir\"))"
   ]
  },
  {
   "cell_type": "markdown",
   "id": "0959a7d5",
   "metadata": {},
   "source": [
    "## Building Custom Tools"
   ]
  },
  {
   "cell_type": "markdown",
   "id": "ba11d932",
   "metadata": {},
   "source": [
    "### Method 1 -> @tool"
   ]
  },
  {
   "cell_type": "code",
   "execution_count": 8,
   "id": "70f9b303",
   "metadata": {},
   "outputs": [],
   "source": [
    "from langchain_core.tools import tool"
   ]
  },
  {
   "cell_type": "code",
   "execution_count": 10,
   "id": "db4e69f9",
   "metadata": {},
   "outputs": [],
   "source": [
    "# Step 1 - create a function\n",
    "\n",
    "def multiply(a, b):\n",
    "    \"\"\"Multiply two numbers\"\"\"\n",
    "    return a*b"
   ]
  },
  {
   "cell_type": "code",
   "execution_count": 11,
   "id": "40d56c5d",
   "metadata": {},
   "outputs": [],
   "source": [
    "# Step 2 - add type hints\n",
    "\n",
    "def multiply(a:int , b:int)-> int :\n",
    "    \"\"\"Multiply two numbers\"\"\"\n",
    "    return a*b"
   ]
  },
  {
   "cell_type": "code",
   "execution_count": 12,
   "id": "f0c81ae6",
   "metadata": {},
   "outputs": [],
   "source": [
    "# Step 3 - add tool decorator\n",
    "\n",
    "@tool\n",
    "def multiply(a: int, b:int) -> int:\n",
    "    \"\"\"Multiply two numbers\"\"\"\n",
    "    return a*b"
   ]
  },
  {
   "cell_type": "code",
   "execution_count": 13,
   "id": "24fdd270",
   "metadata": {},
   "outputs": [
    {
     "data": {
      "text/plain": [
       "12"
      ]
     },
     "execution_count": 13,
     "metadata": {},
     "output_type": "execute_result"
    }
   ],
   "source": [
    "multiply.invoke({'a': 3, 'b': 4})"
   ]
  },
  {
   "cell_type": "code",
   "execution_count": 17,
   "id": "b2bea96e",
   "metadata": {},
   "outputs": [
    {
     "name": "stdout",
     "output_type": "stream",
     "text": [
      "multiply\n",
      "Multiply two numbers\n",
      "{'a': {'title': 'A', 'type': 'integer'}, 'b': {'title': 'B', 'type': 'integer'}}\n",
      "{'description': 'Multiply two numbers', 'properties': {'a': {'title': 'A', 'type': 'integer'}, 'b': {'title': 'B', 'type': 'integer'}}, 'required': ['a', 'b'], 'title': 'multiply', 'type': 'object'}\n"
     ]
    }
   ],
   "source": [
    "print(multiply.name)\n",
    "print(multiply.description)\n",
    "print(multiply.args)\n",
    "print(multiply.args_schema.model_json_schema())"
   ]
  },
  {
   "cell_type": "markdown",
   "id": "1a58e954",
   "metadata": {},
   "source": [
    "### Method-2 -> Using structured tool"
   ]
  },
  {
   "cell_type": "code",
   "execution_count": 19,
   "id": "d57f385b",
   "metadata": {},
   "outputs": [],
   "source": [
    "from pydantic import Field,BaseModel\n",
    "from langchain.tools import StructuredTool"
   ]
  },
  {
   "cell_type": "code",
   "execution_count": 30,
   "id": "890a0f07",
   "metadata": {},
   "outputs": [],
   "source": [
    "# arg schema using pydantic\n",
    "class MultiplyInput(BaseModel):\n",
    "    a:int=Field(description=\"The first number to add\",json_schema_extra={'required':True})\n",
    "    b:int=Field(description=\"The second number to add\",json_schema_extra={'required':True})"
   ]
  },
  {
   "cell_type": "code",
   "execution_count": 31,
   "id": "f2c5f9af",
   "metadata": {},
   "outputs": [],
   "source": [
    "def multiply_func(a: int, b: int) -> int:\n",
    "    return a * b"
   ]
  },
  {
   "cell_type": "code",
   "execution_count": 32,
   "id": "69aa29b2",
   "metadata": {},
   "outputs": [],
   "source": [
    "multiply_tool=StructuredTool(\n",
    "    func=multiply_func,\n",
    "    name=\"multiply\",\n",
    "    description=\"Multiplies two numbers\",\n",
    "    args_schema=MultiplyInput\n",
    ")"
   ]
  },
  {
   "cell_type": "code",
   "execution_count": 33,
   "id": "28d711c3",
   "metadata": {},
   "outputs": [
    {
     "data": {
      "text/plain": [
       "6"
      ]
     },
     "execution_count": 33,
     "metadata": {},
     "output_type": "execute_result"
    }
   ],
   "source": [
    "multiply_tool.invoke({'a': 2, 'b': 3})"
   ]
  },
  {
   "cell_type": "code",
   "execution_count": 34,
   "id": "8b174572",
   "metadata": {},
   "outputs": [
    {
     "name": "stdout",
     "output_type": "stream",
     "text": [
      "multiply\n",
      "Multiplies two numbers\n",
      "{'a': {'description': 'The first number to add', 'required': True, 'title': 'A', 'type': 'integer'}, 'b': {'description': 'The second number to add', 'required': True, 'title': 'B', 'type': 'integer'}}\n"
     ]
    }
   ],
   "source": [
    "print(multiply_tool.name)\n",
    "print(multiply_tool.description)\n",
    "print(multiply_tool.args)"
   ]
  },
  {
   "cell_type": "markdown",
   "id": "dcca67ad",
   "metadata": {},
   "source": [
    "### Method-3-> using BaseTool Class"
   ]
  },
  {
   "cell_type": "code",
   "execution_count": 35,
   "id": "616f6058",
   "metadata": {},
   "outputs": [],
   "source": [
    "from langchain.tools import BaseTool\n",
    "from typing import Type"
   ]
  },
  {
   "cell_type": "code",
   "execution_count": 37,
   "id": "bac93fcb",
   "metadata": {},
   "outputs": [],
   "source": [
    "# arg schema using pydantic\n",
    "\n",
    "class MultiplyInput(BaseModel):\n",
    "    a: int = Field(description=\"The first number to add\", json_schema_extra={'required': True})\n",
    "    b: int = Field(description=\"The second number to add\", json_schema_extra={'required': True})"
   ]
  },
  {
   "cell_type": "code",
   "execution_count": 38,
   "id": "c69f1226",
   "metadata": {},
   "outputs": [],
   "source": [
    "class MultiplyTool(BaseTool):\n",
    "    name: str = \"multiply\"\n",
    "    description: str = \"Multiply two numbers\"\n",
    "\n",
    "    args_schema: Type[BaseModel] = MultiplyInput\n",
    "\n",
    "    def _run(self, a: int, b: int) -> int:\n",
    "        return a * b"
   ]
  },
  {
   "cell_type": "code",
   "execution_count": 39,
   "id": "39269cb4",
   "metadata": {},
   "outputs": [],
   "source": [
    "tool=MultiplyTool()"
   ]
  },
  {
   "cell_type": "code",
   "execution_count": 40,
   "id": "08a91056",
   "metadata": {},
   "outputs": [
    {
     "name": "stdout",
     "output_type": "stream",
     "text": [
      "9\n",
      "multiply\n",
      "Multiply two numbers\n",
      "{'a': {'description': 'The first number to add', 'required': True, 'title': 'A', 'type': 'integer'}, 'b': {'description': 'The second number to add', 'required': True, 'title': 'B', 'type': 'integer'}}\n"
     ]
    }
   ],
   "source": [
    "result = tool.invoke({'a':3, 'b':3})\n",
    "\n",
    "print(result)\n",
    "print(tool.name)\n",
    "print(tool.description)\n",
    "\n",
    "print(tool.args)"
   ]
  },
  {
   "cell_type": "markdown",
   "id": "c65dd495",
   "metadata": {},
   "source": [
    "## Tookit"
   ]
  },
  {
   "cell_type": "code",
   "execution_count": 41,
   "id": "8dbbb4fc",
   "metadata": {},
   "outputs": [],
   "source": [
    "from langchain_core.tools import tool\n",
    "\n",
    "# Custom tools\n",
    "@tool\n",
    "def add(a: int, b: int) -> int:\n",
    "    \"\"\"Add two numbers\"\"\"\n",
    "    return a + b\n",
    "\n",
    "@tool\n",
    "def multiply(a: int, b: int) -> int:\n",
    "    \"\"\"Multiply two numbers\"\"\"\n",
    "    return a * b\n"
   ]
  },
  {
   "cell_type": "code",
   "execution_count": 42,
   "id": "0c09aa2c",
   "metadata": {},
   "outputs": [],
   "source": [
    "class MathToolkit:\n",
    "    def get_tools(self):\n",
    "        return [add, multiply]\n"
   ]
  },
  {
   "cell_type": "code",
   "execution_count": 43,
   "id": "2a111512",
   "metadata": {},
   "outputs": [
    {
     "name": "stdout",
     "output_type": "stream",
     "text": [
      "add => Add two numbers\n",
      "multiply => Multiply two numbers\n"
     ]
    }
   ],
   "source": [
    "toolkit = MathToolkit()\n",
    "tools = toolkit.get_tools()\n",
    "\n",
    "for tool in tools:\n",
    "    print(tool.name, \"=>\", tool.description)\n"
   ]
  },
  {
   "cell_type": "code",
   "execution_count": null,
   "id": "53b72c8b",
   "metadata": {},
   "outputs": [],
   "source": []
  }
 ],
 "metadata": {
  "kernelspec": {
   "display_name": "my_env",
   "language": "python",
   "name": "python3"
  },
  "language_info": {
   "codemirror_mode": {
    "name": "ipython",
    "version": 3
   },
   "file_extension": ".py",
   "mimetype": "text/x-python",
   "name": "python",
   "nbconvert_exporter": "python",
   "pygments_lexer": "ipython3",
   "version": "3.13.3"
  }
 },
 "nbformat": 4,
 "nbformat_minor": 5
}
