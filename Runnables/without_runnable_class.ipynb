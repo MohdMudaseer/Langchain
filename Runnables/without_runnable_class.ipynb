{
 "cells": [
  {
   "cell_type": "code",
   "execution_count": 2,
   "id": "f9d23afb",
   "metadata": {},
   "outputs": [],
   "source": [
    "import random\n",
    "class NakliLLM:\n",
    "    def __init__(self):\n",
    "        print(\"LLM created\")\n",
    "\n",
    "    def predict(self,prompt):\n",
    "        list=[\n",
    "            \"Delhi is the capital of India\",\n",
    "            \"AI stands for Artificial Intelligence\",\n",
    "            \"Beauty lies in the eyes of the beholder\"\n",
    "        ]\n",
    "        return {'response': random.choice(list)}"
   ]
  },
  {
   "cell_type": "code",
   "execution_count": 3,
   "id": "9d5418ad",
   "metadata": {},
   "outputs": [],
   "source": [
    "class NakliPromptTemplate:\n",
    "    def __init__(self,template,input_variables):\n",
    "        self.template=template\n",
    "        self.input_variables=input_variables\n",
    "    def format(self,input_dict):\n",
    "        return self.template.format(**input_dict)\n"
   ]
  },
  {
   "cell_type": "code",
   "execution_count": 4,
   "id": "88e76099",
   "metadata": {},
   "outputs": [],
   "source": [
    "template = NakliPromptTemplate(\n",
    "    template='Write a {length} poem about {topic}',\n",
    "    input_variables=['length', 'topic']\n",
    ")"
   ]
  },
  {
   "cell_type": "code",
   "execution_count": 5,
   "id": "a8539e76",
   "metadata": {},
   "outputs": [],
   "source": [
    "prompt=template.format({\"length\": \"short\", \"topic\": \"friendship\"})"
   ]
  },
  {
   "cell_type": "code",
   "execution_count": 6,
   "id": "ac3b647a",
   "metadata": {},
   "outputs": [
    {
     "name": "stdout",
     "output_type": "stream",
     "text": [
      "LLM created\n"
     ]
    }
   ],
   "source": [
    "llm=NakliLLM()"
   ]
  },
  {
   "cell_type": "code",
   "execution_count": 7,
   "id": "3592dee8",
   "metadata": {},
   "outputs": [
    {
     "data": {
      "text/plain": [
       "{'response': 'AI stands for Artificial Intelligence'}"
      ]
     },
     "execution_count": 7,
     "metadata": {},
     "output_type": "execute_result"
    }
   ],
   "source": [
    "llm.predict(prompt=prompt)"
   ]
  },
  {
   "cell_type": "code",
   "execution_count": 8,
   "id": "d58a1ae1",
   "metadata": {},
   "outputs": [],
   "source": [
    "class NakliLLMChain:\n",
    "    def __init__(self,llm,prompt):\n",
    "        self.llm=llm\n",
    "        self.prompt=prompt\n",
    "    def run(self,input_dict):\n",
    "        format_prompt=self.prompt.format(input_dict)\n",
    "        return self.llm.predict(prompt=format_prompt)"
   ]
  },
  {
   "cell_type": "code",
   "execution_count": 9,
   "id": "2d19313e",
   "metadata": {},
   "outputs": [
    {
     "name": "stdout",
     "output_type": "stream",
     "text": [
      "LLM created\n",
      "{'response': 'Beauty lies in the eyes of the beholder'}\n"
     ]
    }
   ],
   "source": [
    "llm=NakliLLM()\n",
    "template=NakliPromptTemplate(\n",
    "    template='Write a {length} poem about {topic}',\n",
    "    input_variables=['length', 'topic']\n",
    ")\n",
    "chain=NakliLLMChain(llm=llm,prompt=template)\n",
    "print(chain.run({\"length\": \"short\", \"topic\": \"friendship\"}))"
   ]
  }
 ],
 "metadata": {
  "kernelspec": {
   "display_name": "my_env",
   "language": "python",
   "name": "python3"
  },
  "language_info": {
   "codemirror_mode": {
    "name": "ipython",
    "version": 3
   },
   "file_extension": ".py",
   "mimetype": "text/x-python",
   "name": "python",
   "nbconvert_exporter": "python",
   "pygments_lexer": "ipython3",
   "version": "3.13.3"
  }
 },
 "nbformat": 4,
 "nbformat_minor": 5
}
