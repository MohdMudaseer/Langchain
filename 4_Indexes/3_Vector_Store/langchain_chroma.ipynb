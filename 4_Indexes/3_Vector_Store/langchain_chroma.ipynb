{
  "cells": [
    {
      "cell_type": "code",
      "execution_count": 1,
      "metadata": {
        "id": "X5k__vrf2uTL"
      },
      "outputs": [],
      "source": [
        "import os\n",
        "from dotenv import load_dotenv\n",
        "\n",
        "load_dotenv()\n",
        "\n",
        "huggingface_api_token = os.getenv(\"HUGGINGFACEHUB_ACCESS_TOKEN\")"
      ]
    },
    {
      "cell_type": "code",
      "execution_count": 2,
      "metadata": {
        "colab": {
          "base_uri": "https://localhost:8080/"
        },
        "id": "KFmB4r2CZmzI",
        "outputId": "273e0ad7-1af1-4f76-d462-e9a46c3d58aa"
      },
      "outputs": [
        {
          "name": "stdout",
          "output_type": "stream",
          "text": [
            "Requirement already satisfied: langchain in c:\\users\\mudas\\onedrive\\desktop\\langchain\\my_env\\lib\\site-packages (0.3.27)\n",
            "Requirement already satisfied: chromadb in c:\\users\\mudas\\onedrive\\desktop\\langchain\\my_env\\lib\\site-packages (1.0.20)\n",
            "Requirement already satisfied: tiktoken in c:\\users\\mudas\\onedrive\\desktop\\langchain\\my_env\\lib\\site-packages (0.11.0)\n",
            "Requirement already satisfied: pypdf in c:\\users\\mudas\\onedrive\\desktop\\langchain\\my_env\\lib\\site-packages (6.0.0)\n",
            "Requirement already satisfied: langchain_huggingface in c:\\users\\mudas\\onedrive\\desktop\\langchain\\my_env\\lib\\site-packages (0.3.1)\n",
            "Requirement already satisfied: langchain-community in c:\\users\\mudas\\onedrive\\desktop\\langchain\\my_env\\lib\\site-packages (0.3.27)\n",
            "Requirement already satisfied: sentence-transformers in c:\\users\\mudas\\onedrive\\desktop\\langchain\\my_env\\lib\\site-packages (5.1.0)\n",
            "Requirement already satisfied: langchain_chroma in c:\\users\\mudas\\onedrive\\desktop\\langchain\\my_env\\lib\\site-packages (0.2.5)\n",
            "Requirement already satisfied: langchain-core<1.0.0,>=0.3.72 in c:\\users\\mudas\\onedrive\\desktop\\langchain\\my_env\\lib\\site-packages (from langchain) (0.3.74)\n",
            "Requirement already satisfied: langchain-text-splitters<1.0.0,>=0.3.9 in c:\\users\\mudas\\onedrive\\desktop\\langchain\\my_env\\lib\\site-packages (from langchain) (0.3.9)\n",
            "Requirement already satisfied: langsmith>=0.1.17 in c:\\users\\mudas\\onedrive\\desktop\\langchain\\my_env\\lib\\site-packages (from langchain) (0.4.14)\n",
            "Requirement already satisfied: pydantic<3.0.0,>=2.7.4 in c:\\users\\mudas\\onedrive\\desktop\\langchain\\my_env\\lib\\site-packages (from langchain) (2.11.7)\n",
            "Requirement already satisfied: SQLAlchemy<3,>=1.4 in c:\\users\\mudas\\onedrive\\desktop\\langchain\\my_env\\lib\\site-packages (from langchain) (2.0.43)\n",
            "Requirement already satisfied: requests<3,>=2 in c:\\users\\mudas\\onedrive\\desktop\\langchain\\my_env\\lib\\site-packages (from langchain) (2.32.4)\n",
            "Requirement already satisfied: PyYAML>=5.3 in c:\\users\\mudas\\onedrive\\desktop\\langchain\\my_env\\lib\\site-packages (from langchain) (6.0.2)\n",
            "Requirement already satisfied: tenacity!=8.4.0,<10.0.0,>=8.1.0 in c:\\users\\mudas\\onedrive\\desktop\\langchain\\my_env\\lib\\site-packages (from langchain-core<1.0.0,>=0.3.72->langchain) (9.1.2)\n",
            "Requirement already satisfied: jsonpatch<2.0,>=1.33 in c:\\users\\mudas\\onedrive\\desktop\\langchain\\my_env\\lib\\site-packages (from langchain-core<1.0.0,>=0.3.72->langchain) (1.33)\n",
            "Requirement already satisfied: typing-extensions>=4.7 in c:\\users\\mudas\\onedrive\\desktop\\langchain\\my_env\\lib\\site-packages (from langchain-core<1.0.0,>=0.3.72->langchain) (4.14.1)\n",
            "Requirement already satisfied: packaging>=23.2 in c:\\users\\mudas\\onedrive\\desktop\\langchain\\my_env\\lib\\site-packages (from langchain-core<1.0.0,>=0.3.72->langchain) (25.0)\n",
            "Requirement already satisfied: jsonpointer>=1.9 in c:\\users\\mudas\\onedrive\\desktop\\langchain\\my_env\\lib\\site-packages (from jsonpatch<2.0,>=1.33->langchain-core<1.0.0,>=0.3.72->langchain) (3.0.0)\n",
            "Requirement already satisfied: annotated-types>=0.6.0 in c:\\users\\mudas\\onedrive\\desktop\\langchain\\my_env\\lib\\site-packages (from pydantic<3.0.0,>=2.7.4->langchain) (0.7.0)\n",
            "Requirement already satisfied: pydantic-core==2.33.2 in c:\\users\\mudas\\onedrive\\desktop\\langchain\\my_env\\lib\\site-packages (from pydantic<3.0.0,>=2.7.4->langchain) (2.33.2)\n",
            "Requirement already satisfied: typing-inspection>=0.4.0 in c:\\users\\mudas\\onedrive\\desktop\\langchain\\my_env\\lib\\site-packages (from pydantic<3.0.0,>=2.7.4->langchain) (0.4.1)\n",
            "Requirement already satisfied: charset_normalizer<4,>=2 in c:\\users\\mudas\\onedrive\\desktop\\langchain\\my_env\\lib\\site-packages (from requests<3,>=2->langchain) (3.4.3)\n",
            "Requirement already satisfied: idna<4,>=2.5 in c:\\users\\mudas\\onedrive\\desktop\\langchain\\my_env\\lib\\site-packages (from requests<3,>=2->langchain) (3.10)\n",
            "Requirement already satisfied: urllib3<3,>=1.21.1 in c:\\users\\mudas\\onedrive\\desktop\\langchain\\my_env\\lib\\site-packages (from requests<3,>=2->langchain) (2.5.0)\n",
            "Requirement already satisfied: certifi>=2017.4.17 in c:\\users\\mudas\\onedrive\\desktop\\langchain\\my_env\\lib\\site-packages (from requests<3,>=2->langchain) (2025.8.3)\n",
            "Requirement already satisfied: greenlet>=1 in c:\\users\\mudas\\onedrive\\desktop\\langchain\\my_env\\lib\\site-packages (from SQLAlchemy<3,>=1.4->langchain) (3.2.4)\n",
            "Requirement already satisfied: build>=1.0.3 in c:\\users\\mudas\\onedrive\\desktop\\langchain\\my_env\\lib\\site-packages (from chromadb) (1.3.0)\n",
            "Requirement already satisfied: pybase64>=1.4.1 in c:\\users\\mudas\\onedrive\\desktop\\langchain\\my_env\\lib\\site-packages (from chromadb) (1.4.2)\n",
            "Requirement already satisfied: uvicorn>=0.18.3 in c:\\users\\mudas\\onedrive\\desktop\\langchain\\my_env\\lib\\site-packages (from uvicorn[standard]>=0.18.3->chromadb) (0.35.0)\n",
            "Requirement already satisfied: numpy>=1.22.5 in c:\\users\\mudas\\onedrive\\desktop\\langchain\\my_env\\lib\\site-packages (from chromadb) (2.3.2)\n",
            "Requirement already satisfied: posthog<6.0.0,>=2.4.0 in c:\\users\\mudas\\onedrive\\desktop\\langchain\\my_env\\lib\\site-packages (from chromadb) (5.4.0)\n",
            "Requirement already satisfied: onnxruntime>=1.14.1 in c:\\users\\mudas\\onedrive\\desktop\\langchain\\my_env\\lib\\site-packages (from chromadb) (1.22.1)\n",
            "Requirement already satisfied: opentelemetry-api>=1.2.0 in c:\\users\\mudas\\onedrive\\desktop\\langchain\\my_env\\lib\\site-packages (from chromadb) (1.36.0)\n",
            "Requirement already satisfied: opentelemetry-exporter-otlp-proto-grpc>=1.2.0 in c:\\users\\mudas\\onedrive\\desktop\\langchain\\my_env\\lib\\site-packages (from chromadb) (1.36.0)\n",
            "Requirement already satisfied: opentelemetry-sdk>=1.2.0 in c:\\users\\mudas\\onedrive\\desktop\\langchain\\my_env\\lib\\site-packages (from chromadb) (1.36.0)\n",
            "Requirement already satisfied: tokenizers>=0.13.2 in c:\\users\\mudas\\onedrive\\desktop\\langchain\\my_env\\lib\\site-packages (from chromadb) (0.21.4)\n",
            "Requirement already satisfied: pypika>=0.48.9 in c:\\users\\mudas\\onedrive\\desktop\\langchain\\my_env\\lib\\site-packages (from chromadb) (0.48.9)\n",
            "Requirement already satisfied: tqdm>=4.65.0 in c:\\users\\mudas\\onedrive\\desktop\\langchain\\my_env\\lib\\site-packages (from chromadb) (4.67.1)\n",
            "Requirement already satisfied: overrides>=7.3.1 in c:\\users\\mudas\\onedrive\\desktop\\langchain\\my_env\\lib\\site-packages (from chromadb) (7.7.0)\n",
            "Requirement already satisfied: importlib-resources in c:\\users\\mudas\\onedrive\\desktop\\langchain\\my_env\\lib\\site-packages (from chromadb) (6.5.2)\n",
            "Requirement already satisfied: grpcio>=1.58.0 in c:\\users\\mudas\\onedrive\\desktop\\langchain\\my_env\\lib\\site-packages (from chromadb) (1.74.0)\n",
            "Requirement already satisfied: bcrypt>=4.0.1 in c:\\users\\mudas\\onedrive\\desktop\\langchain\\my_env\\lib\\site-packages (from chromadb) (4.3.0)\n",
            "Requirement already satisfied: typer>=0.9.0 in c:\\users\\mudas\\onedrive\\desktop\\langchain\\my_env\\lib\\site-packages (from chromadb) (0.16.1)\n",
            "Requirement already satisfied: kubernetes>=28.1.0 in c:\\users\\mudas\\onedrive\\desktop\\langchain\\my_env\\lib\\site-packages (from chromadb) (33.1.0)\n",
            "Requirement already satisfied: mmh3>=4.0.1 in c:\\users\\mudas\\onedrive\\desktop\\langchain\\my_env\\lib\\site-packages (from chromadb) (5.2.0)\n",
            "Requirement already satisfied: orjson>=3.9.12 in c:\\users\\mudas\\onedrive\\desktop\\langchain\\my_env\\lib\\site-packages (from chromadb) (3.11.2)\n",
            "Requirement already satisfied: httpx>=0.27.0 in c:\\users\\mudas\\onedrive\\desktop\\langchain\\my_env\\lib\\site-packages (from chromadb) (0.28.1)\n",
            "Requirement already satisfied: rich>=10.11.0 in c:\\users\\mudas\\onedrive\\desktop\\langchain\\my_env\\lib\\site-packages (from chromadb) (14.1.0)\n",
            "Requirement already satisfied: jsonschema>=4.19.0 in c:\\users\\mudas\\onedrive\\desktop\\langchain\\my_env\\lib\\site-packages (from chromadb) (4.25.0)\n",
            "Requirement already satisfied: six>=1.5 in c:\\users\\mudas\\onedrive\\desktop\\langchain\\my_env\\lib\\site-packages (from posthog<6.0.0,>=2.4.0->chromadb) (1.17.0)\n",
            "Requirement already satisfied: python-dateutil>=2.2 in c:\\users\\mudas\\onedrive\\desktop\\langchain\\my_env\\lib\\site-packages (from posthog<6.0.0,>=2.4.0->chromadb) (2.9.0.post0)\n",
            "Requirement already satisfied: backoff>=1.10.0 in c:\\users\\mudas\\onedrive\\desktop\\langchain\\my_env\\lib\\site-packages (from posthog<6.0.0,>=2.4.0->chromadb) (2.2.1)\n",
            "Requirement already satisfied: distro>=1.5.0 in c:\\users\\mudas\\onedrive\\desktop\\langchain\\my_env\\lib\\site-packages (from posthog<6.0.0,>=2.4.0->chromadb) (1.9.0)\n",
            "Requirement already satisfied: regex>=2022.1.18 in c:\\users\\mudas\\onedrive\\desktop\\langchain\\my_env\\lib\\site-packages (from tiktoken) (2025.7.34)\n",
            "Requirement already satisfied: huggingface-hub>=0.33.4 in c:\\users\\mudas\\onedrive\\desktop\\langchain\\my_env\\lib\\site-packages (from langchain_huggingface) (0.34.4)\n",
            "Requirement already satisfied: aiohttp<4.0.0,>=3.8.3 in c:\\users\\mudas\\onedrive\\desktop\\langchain\\my_env\\lib\\site-packages (from langchain-community) (3.12.15)\n",
            "Requirement already satisfied: dataclasses-json<0.7,>=0.5.7 in c:\\users\\mudas\\onedrive\\desktop\\langchain\\my_env\\lib\\site-packages (from langchain-community) (0.6.7)\n",
            "Requirement already satisfied: pydantic-settings<3.0.0,>=2.4.0 in c:\\users\\mudas\\onedrive\\desktop\\langchain\\my_env\\lib\\site-packages (from langchain-community) (2.10.1)\n",
            "Requirement already satisfied: httpx-sse<1.0.0,>=0.4.0 in c:\\users\\mudas\\onedrive\\desktop\\langchain\\my_env\\lib\\site-packages (from langchain-community) (0.4.1)\n",
            "Requirement already satisfied: aiohappyeyeballs>=2.5.0 in c:\\users\\mudas\\onedrive\\desktop\\langchain\\my_env\\lib\\site-packages (from aiohttp<4.0.0,>=3.8.3->langchain-community) (2.6.1)\n",
            "Requirement already satisfied: aiosignal>=1.4.0 in c:\\users\\mudas\\onedrive\\desktop\\langchain\\my_env\\lib\\site-packages (from aiohttp<4.0.0,>=3.8.3->langchain-community) (1.4.0)\n",
            "Requirement already satisfied: attrs>=17.3.0 in c:\\users\\mudas\\onedrive\\desktop\\langchain\\my_env\\lib\\site-packages (from aiohttp<4.0.0,>=3.8.3->langchain-community) (25.3.0)\n",
            "Requirement already satisfied: frozenlist>=1.1.1 in c:\\users\\mudas\\onedrive\\desktop\\langchain\\my_env\\lib\\site-packages (from aiohttp<4.0.0,>=3.8.3->langchain-community) (1.7.0)\n",
            "Requirement already satisfied: multidict<7.0,>=4.5 in c:\\users\\mudas\\onedrive\\desktop\\langchain\\my_env\\lib\\site-packages (from aiohttp<4.0.0,>=3.8.3->langchain-community) (6.6.4)\n",
            "Requirement already satisfied: propcache>=0.2.0 in c:\\users\\mudas\\onedrive\\desktop\\langchain\\my_env\\lib\\site-packages (from aiohttp<4.0.0,>=3.8.3->langchain-community) (0.3.2)\n",
            "Requirement already satisfied: yarl<2.0,>=1.17.0 in c:\\users\\mudas\\onedrive\\desktop\\langchain\\my_env\\lib\\site-packages (from aiohttp<4.0.0,>=3.8.3->langchain-community) (1.20.1)\n",
            "Requirement already satisfied: marshmallow<4.0.0,>=3.18.0 in c:\\users\\mudas\\onedrive\\desktop\\langchain\\my_env\\lib\\site-packages (from dataclasses-json<0.7,>=0.5.7->langchain-community) (3.26.1)\n",
            "Requirement already satisfied: typing-inspect<1,>=0.4.0 in c:\\users\\mudas\\onedrive\\desktop\\langchain\\my_env\\lib\\site-packages (from dataclasses-json<0.7,>=0.5.7->langchain-community) (0.9.0)\n",
            "Requirement already satisfied: python-dotenv>=0.21.0 in c:\\users\\mudas\\onedrive\\desktop\\langchain\\my_env\\lib\\site-packages (from pydantic-settings<3.0.0,>=2.4.0->langchain-community) (1.1.1)\n",
            "Requirement already satisfied: mypy-extensions>=0.3.0 in c:\\users\\mudas\\onedrive\\desktop\\langchain\\my_env\\lib\\site-packages (from typing-inspect<1,>=0.4.0->dataclasses-json<0.7,>=0.5.7->langchain-community) (1.1.0)\n",
            "Requirement already satisfied: transformers<5.0.0,>=4.41.0 in c:\\users\\mudas\\onedrive\\desktop\\langchain\\my_env\\lib\\site-packages (from sentence-transformers) (4.55.1)\n",
            "Requirement already satisfied: torch>=1.11.0 in c:\\users\\mudas\\onedrive\\desktop\\langchain\\my_env\\lib\\site-packages (from sentence-transformers) (2.8.0)\n",
            "Requirement already satisfied: scikit-learn in c:\\users\\mudas\\onedrive\\desktop\\langchain\\my_env\\lib\\site-packages (from sentence-transformers) (1.7.1)\n",
            "Requirement already satisfied: scipy in c:\\users\\mudas\\onedrive\\desktop\\langchain\\my_env\\lib\\site-packages (from sentence-transformers) (1.16.1)\n",
            "Requirement already satisfied: Pillow in c:\\users\\mudas\\onedrive\\desktop\\langchain\\my_env\\lib\\site-packages (from sentence-transformers) (11.3.0)\n",
            "Requirement already satisfied: filelock in c:\\users\\mudas\\onedrive\\desktop\\langchain\\my_env\\lib\\site-packages (from transformers<5.0.0,>=4.41.0->sentence-transformers) (3.18.0)\n",
            "Requirement already satisfied: safetensors>=0.4.3 in c:\\users\\mudas\\onedrive\\desktop\\langchain\\my_env\\lib\\site-packages (from transformers<5.0.0,>=4.41.0->sentence-transformers) (0.6.2)\n",
            "Requirement already satisfied: fsspec>=2023.5.0 in c:\\users\\mudas\\onedrive\\desktop\\langchain\\my_env\\lib\\site-packages (from huggingface-hub>=0.33.4->langchain_huggingface) (2025.7.0)\n",
            "Requirement already satisfied: pyproject_hooks in c:\\users\\mudas\\onedrive\\desktop\\langchain\\my_env\\lib\\site-packages (from build>=1.0.3->chromadb) (1.2.0)\n",
            "Requirement already satisfied: colorama in c:\\users\\mudas\\onedrive\\desktop\\langchain\\my_env\\lib\\site-packages (from build>=1.0.3->chromadb) (0.4.6)\n",
            "Requirement already satisfied: anyio in c:\\users\\mudas\\onedrive\\desktop\\langchain\\my_env\\lib\\site-packages (from httpx>=0.27.0->chromadb) (4.10.0)\n",
            "Requirement already satisfied: httpcore==1.* in c:\\users\\mudas\\onedrive\\desktop\\langchain\\my_env\\lib\\site-packages (from httpx>=0.27.0->chromadb) (1.0.9)\n",
            "Requirement already satisfied: h11>=0.16 in c:\\users\\mudas\\onedrive\\desktop\\langchain\\my_env\\lib\\site-packages (from httpcore==1.*->httpx>=0.27.0->chromadb) (0.16.0)\n",
            "Requirement already satisfied: jsonschema-specifications>=2023.03.6 in c:\\users\\mudas\\onedrive\\desktop\\langchain\\my_env\\lib\\site-packages (from jsonschema>=4.19.0->chromadb) (2025.4.1)\n",
            "Requirement already satisfied: referencing>=0.28.4 in c:\\users\\mudas\\onedrive\\desktop\\langchain\\my_env\\lib\\site-packages (from jsonschema>=4.19.0->chromadb) (0.36.2)\n",
            "Requirement already satisfied: rpds-py>=0.7.1 in c:\\users\\mudas\\onedrive\\desktop\\langchain\\my_env\\lib\\site-packages (from jsonschema>=4.19.0->chromadb) (0.27.0)\n",
            "Requirement already satisfied: google-auth>=1.0.1 in c:\\users\\mudas\\onedrive\\desktop\\langchain\\my_env\\lib\\site-packages (from kubernetes>=28.1.0->chromadb) (2.40.3)\n",
            "Requirement already satisfied: websocket-client!=0.40.0,!=0.41.*,!=0.42.*,>=0.32.0 in c:\\users\\mudas\\onedrive\\desktop\\langchain\\my_env\\lib\\site-packages (from kubernetes>=28.1.0->chromadb) (1.8.0)\n",
            "Requirement already satisfied: requests-oauthlib in c:\\users\\mudas\\onedrive\\desktop\\langchain\\my_env\\lib\\site-packages (from kubernetes>=28.1.0->chromadb) (2.0.0)\n",
            "Requirement already satisfied: oauthlib>=3.2.2 in c:\\users\\mudas\\onedrive\\desktop\\langchain\\my_env\\lib\\site-packages (from kubernetes>=28.1.0->chromadb) (3.3.1)\n",
            "Requirement already satisfied: durationpy>=0.7 in c:\\users\\mudas\\onedrive\\desktop\\langchain\\my_env\\lib\\site-packages (from kubernetes>=28.1.0->chromadb) (0.10)\n",
            "Requirement already satisfied: cachetools<6.0,>=2.0.0 in c:\\users\\mudas\\onedrive\\desktop\\langchain\\my_env\\lib\\site-packages (from google-auth>=1.0.1->kubernetes>=28.1.0->chromadb) (5.5.2)\n",
            "Requirement already satisfied: pyasn1-modules>=0.2.1 in c:\\users\\mudas\\onedrive\\desktop\\langchain\\my_env\\lib\\site-packages (from google-auth>=1.0.1->kubernetes>=28.1.0->chromadb) (0.4.2)\n",
            "Requirement already satisfied: rsa<5,>=3.1.4 in c:\\users\\mudas\\onedrive\\desktop\\langchain\\my_env\\lib\\site-packages (from google-auth>=1.0.1->kubernetes>=28.1.0->chromadb) (4.9.1)\n",
            "Requirement already satisfied: pyasn1>=0.1.3 in c:\\users\\mudas\\onedrive\\desktop\\langchain\\my_env\\lib\\site-packages (from rsa<5,>=3.1.4->google-auth>=1.0.1->kubernetes>=28.1.0->chromadb) (0.6.1)\n",
            "Requirement already satisfied: requests-toolbelt>=1.0.0 in c:\\users\\mudas\\onedrive\\desktop\\langchain\\my_env\\lib\\site-packages (from langsmith>=0.1.17->langchain) (1.0.0)\n",
            "Requirement already satisfied: zstandard>=0.23.0 in c:\\users\\mudas\\onedrive\\desktop\\langchain\\my_env\\lib\\site-packages (from langsmith>=0.1.17->langchain) (0.23.0)\n",
            "Requirement already satisfied: coloredlogs in c:\\users\\mudas\\onedrive\\desktop\\langchain\\my_env\\lib\\site-packages (from onnxruntime>=1.14.1->chromadb) (15.0.1)\n",
            "Requirement already satisfied: flatbuffers in c:\\users\\mudas\\onedrive\\desktop\\langchain\\my_env\\lib\\site-packages (from onnxruntime>=1.14.1->chromadb) (25.2.10)\n",
            "Requirement already satisfied: protobuf in c:\\users\\mudas\\onedrive\\desktop\\langchain\\my_env\\lib\\site-packages (from onnxruntime>=1.14.1->chromadb) (5.29.5)\n",
            "Requirement already satisfied: sympy in c:\\users\\mudas\\onedrive\\desktop\\langchain\\my_env\\lib\\site-packages (from onnxruntime>=1.14.1->chromadb) (1.14.0)\n",
            "Requirement already satisfied: importlib-metadata<8.8.0,>=6.0 in c:\\users\\mudas\\onedrive\\desktop\\langchain\\my_env\\lib\\site-packages (from opentelemetry-api>=1.2.0->chromadb) (8.7.0)\n",
            "Requirement already satisfied: zipp>=3.20 in c:\\users\\mudas\\onedrive\\desktop\\langchain\\my_env\\lib\\site-packages (from importlib-metadata<8.8.0,>=6.0->opentelemetry-api>=1.2.0->chromadb) (3.23.0)\n",
            "Requirement already satisfied: googleapis-common-protos~=1.57 in c:\\users\\mudas\\onedrive\\desktop\\langchain\\my_env\\lib\\site-packages (from opentelemetry-exporter-otlp-proto-grpc>=1.2.0->chromadb) (1.70.0)\n",
            "Requirement already satisfied: opentelemetry-exporter-otlp-proto-common==1.36.0 in c:\\users\\mudas\\onedrive\\desktop\\langchain\\my_env\\lib\\site-packages (from opentelemetry-exporter-otlp-proto-grpc>=1.2.0->chromadb) (1.36.0)\n",
            "Requirement already satisfied: opentelemetry-proto==1.36.0 in c:\\users\\mudas\\onedrive\\desktop\\langchain\\my_env\\lib\\site-packages (from opentelemetry-exporter-otlp-proto-grpc>=1.2.0->chromadb) (1.36.0)\n",
            "Requirement already satisfied: opentelemetry-semantic-conventions==0.57b0 in c:\\users\\mudas\\onedrive\\desktop\\langchain\\my_env\\lib\\site-packages (from opentelemetry-sdk>=1.2.0->chromadb) (0.57b0)\n",
            "Requirement already satisfied: markdown-it-py>=2.2.0 in c:\\users\\mudas\\onedrive\\desktop\\langchain\\my_env\\lib\\site-packages (from rich>=10.11.0->chromadb) (4.0.0)\n",
            "Requirement already satisfied: pygments<3.0.0,>=2.13.0 in c:\\users\\mudas\\onedrive\\desktop\\langchain\\my_env\\lib\\site-packages (from rich>=10.11.0->chromadb) (2.19.2)\n",
            "Requirement already satisfied: mdurl~=0.1 in c:\\users\\mudas\\onedrive\\desktop\\langchain\\my_env\\lib\\site-packages (from markdown-it-py>=2.2.0->rich>=10.11.0->chromadb) (0.1.2)\n",
            "Requirement already satisfied: networkx in c:\\users\\mudas\\onedrive\\desktop\\langchain\\my_env\\lib\\site-packages (from torch>=1.11.0->sentence-transformers) (3.5)\n",
            "Requirement already satisfied: jinja2 in c:\\users\\mudas\\onedrive\\desktop\\langchain\\my_env\\lib\\site-packages (from torch>=1.11.0->sentence-transformers) (3.1.6)\n",
            "Requirement already satisfied: setuptools in c:\\users\\mudas\\onedrive\\desktop\\langchain\\my_env\\lib\\site-packages (from torch>=1.11.0->sentence-transformers) (80.9.0)\n",
            "Requirement already satisfied: mpmath<1.4,>=1.1.0 in c:\\users\\mudas\\onedrive\\desktop\\langchain\\my_env\\lib\\site-packages (from sympy->onnxruntime>=1.14.1->chromadb) (1.3.0)\n",
            "Requirement already satisfied: click>=8.0.0 in c:\\users\\mudas\\onedrive\\desktop\\langchain\\my_env\\lib\\site-packages (from typer>=0.9.0->chromadb) (8.2.1)\n",
            "Requirement already satisfied: shellingham>=1.3.0 in c:\\users\\mudas\\onedrive\\desktop\\langchain\\my_env\\lib\\site-packages (from typer>=0.9.0->chromadb) (1.5.4)\n",
            "Requirement already satisfied: httptools>=0.6.3 in c:\\users\\mudas\\onedrive\\desktop\\langchain\\my_env\\lib\\site-packages (from uvicorn[standard]>=0.18.3->chromadb) (0.6.4)\n",
            "Requirement already satisfied: watchfiles>=0.13 in c:\\users\\mudas\\onedrive\\desktop\\langchain\\my_env\\lib\\site-packages (from uvicorn[standard]>=0.18.3->chromadb) (1.1.0)\n",
            "Requirement already satisfied: websockets>=10.4 in c:\\users\\mudas\\onedrive\\desktop\\langchain\\my_env\\lib\\site-packages (from uvicorn[standard]>=0.18.3->chromadb) (15.0.1)\n",
            "Requirement already satisfied: sniffio>=1.1 in c:\\users\\mudas\\onedrive\\desktop\\langchain\\my_env\\lib\\site-packages (from anyio->httpx>=0.27.0->chromadb) (1.3.1)\n",
            "Requirement already satisfied: humanfriendly>=9.1 in c:\\users\\mudas\\onedrive\\desktop\\langchain\\my_env\\lib\\site-packages (from coloredlogs->onnxruntime>=1.14.1->chromadb) (10.0)\n",
            "Requirement already satisfied: pyreadline3 in c:\\users\\mudas\\onedrive\\desktop\\langchain\\my_env\\lib\\site-packages (from humanfriendly>=9.1->coloredlogs->onnxruntime>=1.14.1->chromadb) (3.5.4)\n",
            "Requirement already satisfied: MarkupSafe>=2.0 in c:\\users\\mudas\\onedrive\\desktop\\langchain\\my_env\\lib\\site-packages (from jinja2->torch>=1.11.0->sentence-transformers) (3.0.2)\n",
            "Requirement already satisfied: joblib>=1.2.0 in c:\\users\\mudas\\onedrive\\desktop\\langchain\\my_env\\lib\\site-packages (from scikit-learn->sentence-transformers) (1.5.1)\n",
            "Requirement already satisfied: threadpoolctl>=3.1.0 in c:\\users\\mudas\\onedrive\\desktop\\langchain\\my_env\\lib\\site-packages (from scikit-learn->sentence-transformers) (3.6.0)\n"
          ]
        }
      ],
      "source": [
        "!pip install langchain chromadb tiktoken pypdf langchain_huggingface langchain-community sentence-transformers langchain_chroma"
      ]
    },
    {
      "cell_type": "code",
      "execution_count": 3,
      "metadata": {
        "id": "1YGuU6npaIFx"
      },
      "outputs": [],
      "source": [
        "from langchain_huggingface import HuggingFaceEmbeddings\n",
        "from langchain_chroma import Chroma"
      ]
    },
    {
      "cell_type": "code",
      "execution_count": 4,
      "metadata": {
        "id": "FpqDxoo-28TT"
      },
      "outputs": [],
      "source": [
        "from langchain.schema import Document\n",
        "\n",
        "# Create LangChain documents for IPL players\n",
        "\n",
        "doc1 = Document(\n",
        "        page_content=\"Virat Kohli is one of the most successful and consistent batsmen in IPL history. Known for his aggressive batting style and fitness, he has led the Royal Challengers Bangalore in multiple seasons.\",\n",
        "        metadata={\"team\": \"Royal Challengers Bangalore\"}\n",
        "    )\n",
        "doc2 = Document(\n",
        "        page_content=\"Rohit Sharma is the most successful captain in IPL history, leading Mumbai Indians to five titles. He's known for his calm demeanor and ability to play big innings under pressure.\",\n",
        "        metadata={\"team\": \"Mumbai Indians\"}\n",
        "    )\n",
        "doc3 = Document(\n",
        "        page_content=\"MS Dhoni, famously known as Captain Cool, has led Chennai Super Kings to multiple IPL titles. His finishing skills, wicketkeeping, and leadership are legendary.\",\n",
        "        metadata={\"team\": \"Chennai Super Kings\"}\n",
        "    )\n",
        "doc4 = Document(\n",
        "        page_content=\"Jasprit Bumrah is considered one of the best fast bowlers in T20 cricket. Playing for Mumbai Indians, he is known for his yorkers and death-over expertise.\",\n",
        "        metadata={\"team\": \"Mumbai Indians\"}\n",
        "    )\n",
        "doc5 = Document(\n",
        "        page_content=\"Ravindra Jadeja is a dynamic all-rounder who contributes with both bat and ball. Representing Chennai Super Kings, his quick fielding and match-winning performances make him a key player.\",\n",
        "        metadata={\"team\": \"Chennai Super Kings\"}\n",
        "    )\n"
      ]
    },
    {
      "cell_type": "code",
      "execution_count": 5,
      "metadata": {
        "id": "8gHb9o9Y3lfL"
      },
      "outputs": [],
      "source": [
        "docs = [doc1, doc2, doc3, doc4, doc5]"
      ]
    },
    {
      "cell_type": "code",
      "execution_count": 6,
      "metadata": {
        "id": "rIKW6J91c2Gw"
      },
      "outputs": [],
      "source": [
        "vector_store = Chroma(\n",
        "    embedding_function=HuggingFaceEmbeddings(model_name=\"sentence-transformers/all-MiniLM-L6-v2\"),\n",
        "    persist_directory='my_chroma_db',\n",
        "    collection_name='sample'\n",
        ")"
      ]
    },
    {
      "cell_type": "code",
      "execution_count": 7,
      "metadata": {
        "colab": {
          "base_uri": "https://localhost:8080/"
        },
        "id": "HY1WWRs3gLua",
        "outputId": "c90d3dd4-b1a9-47cd-dfcc-403c0cc0d1c4"
      },
      "outputs": [
        {
          "data": {
            "text/plain": [
              "['79f9e661-906a-4d01-9f55-85c47d13b95f',\n",
              " 'cb18f3b4-6b56-4f70-9c01-f447ea048444',\n",
              " '4682b792-c854-44ca-b7aa-95ff7fe7e2d0',\n",
              " '9c30137e-2e47-4b5e-ae3f-06bed886678c',\n",
              " '53a536af-1956-44d9-a40b-c0222bc1c0d2']"
            ]
          },
          "execution_count": 7,
          "metadata": {},
          "output_type": "execute_result"
        }
      ],
      "source": [
        "# add documents\n",
        "vector_store.add_documents(docs)"
      ]
    },
    {
      "cell_type": "code",
      "execution_count": 8,
      "metadata": {
        "colab": {
          "base_uri": "https://localhost:8080/"
        },
        "id": "nG7XjDXwg0JZ",
        "outputId": "27578956-b1bb-4054-d76a-6ad48ea3e811"
      },
      "outputs": [
        {
          "data": {
            "text/plain": [
              "{'ids': ['79f9e661-906a-4d01-9f55-85c47d13b95f',\n",
              "  'cb18f3b4-6b56-4f70-9c01-f447ea048444',\n",
              "  '4682b792-c854-44ca-b7aa-95ff7fe7e2d0',\n",
              "  '9c30137e-2e47-4b5e-ae3f-06bed886678c',\n",
              "  '53a536af-1956-44d9-a40b-c0222bc1c0d2'],\n",
              " 'embeddings': array([[ 0.00994729,  0.06914339, -0.05147116, ..., -0.03543336,\n",
              "          0.01284811,  0.0124829 ],\n",
              "        [ 0.00127744,  0.03129851, -0.02375377, ..., -0.00518359,\n",
              "         -0.03280612,  0.02737716],\n",
              "        [-0.10265917,  0.02650811,  0.022715  , ..., -0.03359742,\n",
              "         -0.07984947, -0.0150771 ],\n",
              "        [ 0.02123394, -0.02468546, -0.04494373, ..., -0.10995814,\n",
              "          0.0057256 ,  0.09915376],\n",
              "        [ 0.0187398 ,  0.04382848, -0.04304255, ..., -0.07801621,\n",
              "         -0.0784068 , -0.00304188]], shape=(5, 384)),\n",
              " 'documents': ['Virat Kohli is one of the most successful and consistent batsmen in IPL history. Known for his aggressive batting style and fitness, he has led the Royal Challengers Bangalore in multiple seasons.',\n",
              "  \"Rohit Sharma is the most successful captain in IPL history, leading Mumbai Indians to five titles. He's known for his calm demeanor and ability to play big innings under pressure.\",\n",
              "  'MS Dhoni, famously known as Captain Cool, has led Chennai Super Kings to multiple IPL titles. His finishing skills, wicketkeeping, and leadership are legendary.',\n",
              "  'Jasprit Bumrah is considered one of the best fast bowlers in T20 cricket. Playing for Mumbai Indians, he is known for his yorkers and death-over expertise.',\n",
              "  'Ravindra Jadeja is a dynamic all-rounder who contributes with both bat and ball. Representing Chennai Super Kings, his quick fielding and match-winning performances make him a key player.'],\n",
              " 'uris': None,\n",
              " 'included': ['embeddings', 'documents', 'metadatas'],\n",
              " 'data': None,\n",
              " 'metadatas': [{'team': 'Royal Challengers Bangalore'},\n",
              "  {'team': 'Mumbai Indians'},\n",
              "  {'team': 'Chennai Super Kings'},\n",
              "  {'team': 'Mumbai Indians'},\n",
              "  {'team': 'Chennai Super Kings'}]}"
            ]
          },
          "execution_count": 8,
          "metadata": {},
          "output_type": "execute_result"
        }
      ],
      "source": [
        "# view documents\n",
        "vector_store.get(include=['embeddings','documents', 'metadatas'])"
      ]
    },
    {
      "cell_type": "code",
      "execution_count": 9,
      "metadata": {
        "colab": {
          "base_uri": "https://localhost:8080/"
        },
        "id": "LU-W9_9Jg3l3",
        "outputId": "a84c5ff4-cbe2-43b3-fb05-1e8c9285b8d9"
      },
      "outputs": [
        {
          "data": {
            "text/plain": [
              "[Document(id='9c30137e-2e47-4b5e-ae3f-06bed886678c', metadata={'team': 'Mumbai Indians'}, page_content='Jasprit Bumrah is considered one of the best fast bowlers in T20 cricket. Playing for Mumbai Indians, he is known for his yorkers and death-over expertise.'),\n",
              " Document(id='cb18f3b4-6b56-4f70-9c01-f447ea048444', metadata={'team': 'Mumbai Indians'}, page_content=\"Rohit Sharma is the most successful captain in IPL history, leading Mumbai Indians to five titles. He's known for his calm demeanor and ability to play big innings under pressure.\")]"
            ]
          },
          "execution_count": 9,
          "metadata": {},
          "output_type": "execute_result"
        }
      ],
      "source": [
        "# search documents\n",
        "vector_store.similarity_search(\n",
        "    query='Who among these are a bowler?',\n",
        "    k=2\n",
        ")"
      ]
    },
    {
      "cell_type": "code",
      "execution_count": 10,
      "metadata": {
        "colab": {
          "base_uri": "https://localhost:8080/"
        },
        "id": "fRVVrXeag_MI",
        "outputId": "8a488c68-1ce8-40c6-e52c-a932c22ba991"
      },
      "outputs": [
        {
          "data": {
            "text/plain": [
              "[(Document(id='9c30137e-2e47-4b5e-ae3f-06bed886678c', metadata={'team': 'Mumbai Indians'}, page_content='Jasprit Bumrah is considered one of the best fast bowlers in T20 cricket. Playing for Mumbai Indians, he is known for his yorkers and death-over expertise.'),\n",
              "  0.9693601727485657),\n",
              " (Document(id='cb18f3b4-6b56-4f70-9c01-f447ea048444', metadata={'team': 'Mumbai Indians'}, page_content=\"Rohit Sharma is the most successful captain in IPL history, leading Mumbai Indians to five titles. He's known for his calm demeanor and ability to play big innings under pressure.\"),\n",
              "  1.14934504032135)]"
            ]
          },
          "execution_count": 10,
          "metadata": {},
          "output_type": "execute_result"
        }
      ],
      "source": [
        "# search with similarity score\n",
        "vector_store.similarity_search_with_score(\n",
        "    query='Who among these are a bowler?',\n",
        "    k=2\n",
        ")"
      ]
    },
    {
      "cell_type": "code",
      "execution_count": 11,
      "metadata": {
        "colab": {
          "base_uri": "https://localhost:8080/"
        },
        "id": "NS6pINjhjldB",
        "outputId": "1526887c-3990-4ef0-aefc-948cfebc029f"
      },
      "outputs": [
        {
          "data": {
            "text/plain": [
              "[(Document(id='4682b792-c854-44ca-b7aa-95ff7fe7e2d0', metadata={'team': 'Chennai Super Kings'}, page_content='MS Dhoni, famously known as Captain Cool, has led Chennai Super Kings to multiple IPL titles. His finishing skills, wicketkeeping, and leadership are legendary.'),\n",
              "  1.8436005115509033),\n",
              " (Document(id='53a536af-1956-44d9-a40b-c0222bc1c0d2', metadata={'team': 'Chennai Super Kings'}, page_content='Ravindra Jadeja is a dynamic all-rounder who contributes with both bat and ball. Representing Chennai Super Kings, his quick fielding and match-winning performances make him a key player.'),\n",
              "  1.890937328338623)]"
            ]
          },
          "execution_count": 11,
          "metadata": {},
          "output_type": "execute_result"
        }
      ],
      "source": [
        "# meta-data filtering\n",
        "vector_store.similarity_search_with_score(\n",
        "    query=\"\",\n",
        "    filter={\"team\": \"Chennai Super Kings\"}\n",
        ")"
      ]
    },
    {
      "cell_type": "code",
      "execution_count": 12,
      "metadata": {
        "id": "5EXWk0T26qat"
      },
      "outputs": [],
      "source": [
        "# update documents\n",
        "updated_doc1 = Document(\n",
        "    page_content=\"Virat Kohli, the former captain of Royal Challengers Bangalore (RCB), is renowned for his aggressive leadership and consistent batting performances. He holds the record for the most runs in IPL history, including multiple centuries in a single season. Despite RCB not winning an IPL title under his captaincy, Kohli's passion and fitness set a benchmark for the league. His ability to chase targets and anchor innings has made him one of the most dependable players in T20 cricket.\",\n",
        "    metadata={\"team\": \"Royal Challengers Bangalore\"}\n",
        ")\n",
        "\n",
        "vector_store.update_document(document_id='09a39dc6-3ba6-4ea7-927e-fdda591da5e4', document=updated_doc1)\n"
      ]
    },
    {
      "cell_type": "code",
      "execution_count": 13,
      "metadata": {
        "colab": {
          "base_uri": "https://localhost:8080/"
        },
        "id": "vkB9Yd_O7oEl",
        "outputId": "a3c41453-7f81-4efb-a1c5-24a0b1f75de5"
      },
      "outputs": [
        {
          "data": {
            "text/plain": [
              "{'ids': ['79f9e661-906a-4d01-9f55-85c47d13b95f',\n",
              "  'cb18f3b4-6b56-4f70-9c01-f447ea048444',\n",
              "  '4682b792-c854-44ca-b7aa-95ff7fe7e2d0',\n",
              "  '9c30137e-2e47-4b5e-ae3f-06bed886678c',\n",
              "  '53a536af-1956-44d9-a40b-c0222bc1c0d2'],\n",
              " 'embeddings': array([[ 0.00994729,  0.06914339, -0.05147116, ..., -0.03543336,\n",
              "          0.01284811,  0.0124829 ],\n",
              "        [ 0.00127744,  0.03129851, -0.02375377, ..., -0.00518359,\n",
              "         -0.03280612,  0.02737716],\n",
              "        [-0.10265917,  0.02650811,  0.022715  , ..., -0.03359742,\n",
              "         -0.07984947, -0.0150771 ],\n",
              "        [ 0.02123394, -0.02468546, -0.04494373, ..., -0.10995814,\n",
              "          0.0057256 ,  0.09915376],\n",
              "        [ 0.0187398 ,  0.04382848, -0.04304255, ..., -0.07801621,\n",
              "         -0.0784068 , -0.00304188]], shape=(5, 384)),\n",
              " 'documents': ['Virat Kohli is one of the most successful and consistent batsmen in IPL history. Known for his aggressive batting style and fitness, he has led the Royal Challengers Bangalore in multiple seasons.',\n",
              "  \"Rohit Sharma is the most successful captain in IPL history, leading Mumbai Indians to five titles. He's known for his calm demeanor and ability to play big innings under pressure.\",\n",
              "  'MS Dhoni, famously known as Captain Cool, has led Chennai Super Kings to multiple IPL titles. His finishing skills, wicketkeeping, and leadership are legendary.',\n",
              "  'Jasprit Bumrah is considered one of the best fast bowlers in T20 cricket. Playing for Mumbai Indians, he is known for his yorkers and death-over expertise.',\n",
              "  'Ravindra Jadeja is a dynamic all-rounder who contributes with both bat and ball. Representing Chennai Super Kings, his quick fielding and match-winning performances make him a key player.'],\n",
              " 'uris': None,\n",
              " 'included': ['embeddings', 'documents', 'metadatas'],\n",
              " 'data': None,\n",
              " 'metadatas': [{'team': 'Royal Challengers Bangalore'},\n",
              "  {'team': 'Mumbai Indians'},\n",
              "  {'team': 'Chennai Super Kings'},\n",
              "  {'team': 'Mumbai Indians'},\n",
              "  {'team': 'Chennai Super Kings'}]}"
            ]
          },
          "execution_count": 13,
          "metadata": {},
          "output_type": "execute_result"
        }
      ],
      "source": [
        "# view documents\n",
        "vector_store.get(include=['embeddings','documents', 'metadatas'])"
      ]
    },
    {
      "cell_type": "code",
      "execution_count": 14,
      "metadata": {
        "id": "JfP7Gkgc7r4A"
      },
      "outputs": [],
      "source": [
        "# delete document\n",
        "vector_store.delete(ids=['09a39dc6-3ba6-4ea7-927e-fdda591da5e4'])"
      ]
    },
    {
      "cell_type": "code",
      "execution_count": 15,
      "metadata": {
        "colab": {
          "base_uri": "https://localhost:8080/"
        },
        "id": "Z8kVJ9UX76tG",
        "outputId": "45056946-7287-4ab9-a3ed-5b882498b9cd"
      },
      "outputs": [
        {
          "data": {
            "text/plain": [
              "{'ids': ['79f9e661-906a-4d01-9f55-85c47d13b95f',\n",
              "  'cb18f3b4-6b56-4f70-9c01-f447ea048444',\n",
              "  '4682b792-c854-44ca-b7aa-95ff7fe7e2d0',\n",
              "  '9c30137e-2e47-4b5e-ae3f-06bed886678c',\n",
              "  '53a536af-1956-44d9-a40b-c0222bc1c0d2'],\n",
              " 'embeddings': array([[ 0.00994729,  0.06914339, -0.05147116, ..., -0.03543336,\n",
              "          0.01284811,  0.0124829 ],\n",
              "        [ 0.00127744,  0.03129851, -0.02375377, ..., -0.00518359,\n",
              "         -0.03280612,  0.02737716],\n",
              "        [-0.10265917,  0.02650811,  0.022715  , ..., -0.03359742,\n",
              "         -0.07984947, -0.0150771 ],\n",
              "        [ 0.02123394, -0.02468546, -0.04494373, ..., -0.10995814,\n",
              "          0.0057256 ,  0.09915376],\n",
              "        [ 0.0187398 ,  0.04382848, -0.04304255, ..., -0.07801621,\n",
              "         -0.0784068 , -0.00304188]], shape=(5, 384)),\n",
              " 'documents': ['Virat Kohli is one of the most successful and consistent batsmen in IPL history. Known for his aggressive batting style and fitness, he has led the Royal Challengers Bangalore in multiple seasons.',\n",
              "  \"Rohit Sharma is the most successful captain in IPL history, leading Mumbai Indians to five titles. He's known for his calm demeanor and ability to play big innings under pressure.\",\n",
              "  'MS Dhoni, famously known as Captain Cool, has led Chennai Super Kings to multiple IPL titles. His finishing skills, wicketkeeping, and leadership are legendary.',\n",
              "  'Jasprit Bumrah is considered one of the best fast bowlers in T20 cricket. Playing for Mumbai Indians, he is known for his yorkers and death-over expertise.',\n",
              "  'Ravindra Jadeja is a dynamic all-rounder who contributes with both bat and ball. Representing Chennai Super Kings, his quick fielding and match-winning performances make him a key player.'],\n",
              " 'uris': None,\n",
              " 'included': ['embeddings', 'documents', 'metadatas'],\n",
              " 'data': None,\n",
              " 'metadatas': [{'team': 'Royal Challengers Bangalore'},\n",
              "  {'team': 'Mumbai Indians'},\n",
              "  {'team': 'Chennai Super Kings'},\n",
              "  {'team': 'Mumbai Indians'},\n",
              "  {'team': 'Chennai Super Kings'}]}"
            ]
          },
          "execution_count": 15,
          "metadata": {},
          "output_type": "execute_result"
        }
      ],
      "source": [
        "# view documents\n",
        "vector_store.get(include=['embeddings','documents', 'metadatas'])"
      ]
    },
    {
      "cell_type": "code",
      "execution_count": null,
      "metadata": {
        "id": "Hg--cFdi79CV"
      },
      "outputs": [],
      "source": []
    }
  ],
  "metadata": {
    "colab": {
      "provenance": []
    },
    "kernelspec": {
      "display_name": "my_env",
      "language": "python",
      "name": "python3"
    },
    "language_info": {
      "codemirror_mode": {
        "name": "ipython",
        "version": 3
      },
      "file_extension": ".py",
      "mimetype": "text/x-python",
      "name": "python",
      "nbconvert_exporter": "python",
      "pygments_lexer": "ipython3",
      "version": "3.13.3"
    }
  },
  "nbformat": 4,
  "nbformat_minor": 0
}
